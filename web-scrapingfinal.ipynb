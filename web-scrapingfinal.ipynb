{
 "cells": [
  {
   "cell_type": "markdown",
   "metadata": {},
   "source": [
    "# Web Scraping \n",
    "### Savannah Manns 02/08/2024 DTSC 2301"
   ]
  },
  {
   "cell_type": "code",
   "execution_count": 9,
   "metadata": {},
   "outputs": [],
   "source": [
    "import pandas as pd \n",
    "from bs4 import BeautifulSoup\n",
    "import requests\n",
    "url = \"https://webpages.charlotte.edu/mscipion/\""
   ]
  },
  {
   "cell_type": "code",
   "execution_count": 8,
   "metadata": {},
   "outputs": [],
   "source": [
    "def get_colspan(td):\n",
    "    \"\"\"Helper function to get the colspan attribute of a table cell.\"\"\"\n",
    "    return int(td.get('colspan', 1))\n",
    "\n",
    "def get_cell_content(td):\n",
    "    \"\"\"Helper function to extract text or link from a table cell.\"\"\"\n",
    "    link = td.find('a')\n",
    "    if link and 'title' in link.attrs:\n",
    "        return link['title']  # Extract the title attribute of the link\n",
    "    return td.get_text(strip=True)"
   ]
  },
  {
   "cell_type": "code",
   "execution_count": 10,
   "metadata": {},
   "outputs": [
    {
     "name": "stdout",
     "output_type": "stream",
     "text": [
      "  Student Favourite Computer Language Years of Experience\n",
      "0    Fred                      Kotlin                   4\n",
      "1   Paula                      Python                   2\n",
      "2   Ernst                        Java                   7\n",
      "3  Isabel                         C++                   3\n",
      "4    Tony                       Pearl                   7\n",
      "5   Maria                       Cobol                  15\n"
     ]
    }
   ],
   "source": [
    "# Fetch the content from the URL\n",
    "response = requests.get(url)\n",
    "soup = BeautifulSoup(response.content, 'html.parser')\n",
    "\n",
    "# Find the table in the HTML\n",
    "table = soup.find('table')\n",
    "\n",
    "# Extract the rows\n",
    "rows = table.find_all('tr')\n",
    "\n",
    "# Initialize lists for header and data\n",
    "header = []\n",
    "data = []\n",
    "\n",
    "# Process header (assuming the first row contains headers)\n",
    "header_cells = rows[0].find_all(['th', 'td'])\n",
    "for cell in header_cells:\n",
    "    colspan = get_colspan(cell)\n",
    "    # Repeat the header for the number of columns it spans\n",
    "    header.extend([get_cell_content(cell)] * colspan)\n",
    "\n",
    "# Process data rows\n",
    "for row in rows[1:]:\n",
    "    row_data = []\n",
    "    for td in row.find_all(['td']):\n",
    "        colspan = get_colspan(td)\n",
    "        cell_content = get_cell_content(td)\n",
    "      \n",
    "        row_data.extend([cell_content] * colspan)\n",
    "    \n",
    "    if len(row_data) == len(header):\n",
    "        data.append(row_data)\n",
    "\n",
    "df = pd.DataFrame(data, columns=header)\n",
    "\n",
    "print(df)\n"
   ]
  },
  {
   "cell_type": "code",
   "execution_count": null,
   "metadata": {},
   "outputs": [],
   "source": []
  }
 ],
 "metadata": {
  "kernelspec": {
   "display_name": "base",
   "language": "python",
   "name": "python3"
  },
  "language_info": {
   "codemirror_mode": {
    "name": "ipython",
    "version": 3
   },
   "file_extension": ".py",
   "mimetype": "text/x-python",
   "name": "python",
   "nbconvert_exporter": "python",
   "pygments_lexer": "ipython3",
   "version": "3.11.5"
  }
 },
 "nbformat": 4,
 "nbformat_minor": 2
}
